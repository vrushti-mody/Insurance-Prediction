{
 "cells": [
  {
   "cell_type": "code",
   "execution_count": 1,
   "metadata": {},
   "outputs": [
    {
     "data": {
      "image/png": "[encoded data removed]",
      "text/plain": [
       "<Figure size 864x648 with 2 Axes>"
      ]
     },
     "metadata": {
      "needs_background": "light"
     },
     "output_type": "display_data"
    },
    {
     "name": "stdout",
     "output_type": "stream",
     "text": [
      "[386.23165138   0.         419.18221106]\n",
      "11866.028905331976\n",
      "0.039170302627161924\n"
     ]
    }
   ],
   "source": [
    "%matplotlib inline\n",
    "import numpy as np\n",
    "import pandas as pd\n",
    "import matplotlib.pyplot as plt\n",
    "\n",
    "\n",
    "data = pd.read_csv('insurance.csv')\n",
    "data.head()\n",
    "\n",
    "def map_smoking(column):\n",
    "    mapped=[]  \n",
    "    for row in column:  \n",
    "        if row==\"yes\":\n",
    "            mapped.append(1)\n",
    "        else:\n",
    "            mapped.append(0)\n",
    "    return mapped\n",
    "data[\"smoker_norm\"]=map_smoking(data[\"smoker\"])\n",
    "\n",
    "\n",
    "import seaborn as sns\n",
    "corr = data.corr()\n",
    "fig, ax = plt.subplots(figsize=(12, 9))\n",
    "sns.heatmap(corr, vmax=.8, square=True);\n",
    "plt.show()\n",
    "\n",
    "smoke = data['smoker_norm'].values\n",
    "bmi = data['bmi'].values\n",
    "charges = data['charges'].values\n",
    "\n",
    "m = len(smoke)\n",
    "x0 = np.ones(m)\n",
    "X = np.array([x0, smoke, bmi]).T\n",
    "# Initial Coefficients\n",
    "B = np.array([0, 0, 0])\n",
    "Y = np.array(charges)\n",
    "alpha = 0.0001\n",
    "\n",
    "def cost_function(X, Y, B):\n",
    "    m = len(Y)\n",
    "    J = np.sum((X.dot(B) - Y) ** 2)/(2 * m)\n",
    "    return J\n",
    "\n",
    "def gradient_descent(X, Y, B, alpha, iterations):\n",
    "    cost_history = [0] * iterations\n",
    "    m = len(Y)\n",
    "    \n",
    "    for iteration in range(iterations):\n",
    "        # Hypothesis Values\n",
    "        h = X.dot(B)\n",
    "        # Difference b/w Hypothesis and Actual Y\n",
    "        loss = h - Y\n",
    "        # Gradient Calculation\n",
    "        gradient = X.T.dot(loss) / m\n",
    "        # Changing Values of B using Gradient\n",
    "        B = B - alpha * gradient\n",
    "        # New Cost Value\n",
    "        cost = cost_function(X, Y, B)\n",
    "        cost_history[iteration] = cost   \n",
    "    return B, cost_history\n",
    "\n",
    "\n",
    "newB, cost_history = gradient_descent(X, Y, B, alpha, 100000)\n",
    "print(newB)\n",
    "\n",
    "\n",
    "# Model Evaluation - RMSE\n",
    "def rmse(Y, Y_pred):\n",
    "    rmse = np.sqrt(sum((Y - Y_pred) ** 2) / len(Y))\n",
    "    return rmse\n",
    "\n",
    "# Model Evaluation - R2 Score\n",
    "def r2_score(Y, Y_pred):\n",
    "    mean_y = np.mean(Y)\n",
    "    ss_tot = sum((Y - mean_y) ** 2)\n",
    "    ss_res = sum((Y - Y_pred) ** 2)\n",
    "    r2 = 1 - (ss_res / ss_tot)\n",
    "    return r2\n",
    "Y_pred = X.dot(newB)\n",
    "print(rmse(Y, Y_pred))\n",
    "print(r2_score(Y, Y_pred))\n",
    "\n",
    "\n",
    "def calculate_insurance(smoking,bmi):\n",
    "    y=(18909.62299299*smoking)+(322.12279 *bmi)-398.44255998\n",
    "    return y"
   ]
  },
  {
   "cell_type": "code",
   "execution_count": null,
   "metadata": {},
   "outputs": [],
   "source": []
  }
 ],
 "metadata": {
  "kernelspec": {
   "display_name": "Python 3",
   "language": "python",
   "name": "python3"
  },
  "language_info": {
   "codemirror_mode": {
    "name": "ipython",
    "version": 3
   },
   "file_extension": ".py",
   "mimetype": "text/x-python",
   "name": "python",
   "nbconvert_exporter": "python",
   "pygments_lexer": "ipython3",
   "version": "3.7.1"
  }
 },
 "nbformat": 4,
 "nbformat_minor": 2
}
