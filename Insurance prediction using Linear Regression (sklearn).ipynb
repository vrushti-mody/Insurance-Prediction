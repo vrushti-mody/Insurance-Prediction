{
 "cells": [
  {
   "cell_type": "code",
   "execution_count": 2,
   "metadata": {},
   "outputs": [
    {
     "name": "stdout",
     "output_type": "stream",
     "text": [
      "ExtraTreesRegressor evaluating result:\n",
      "Test MAE:  9498.623850583957\n",
      "Test RMSE:  14073.783581530912\n",
      "Cost =  29113.333441499904 \n",
      "\n",
      "\n"
     ]
    }
   ],
   "source": [
    "import pandas as pd\n",
    "from matplotlib import pyplot as plt\n",
    "import seaborn as sns\n",
    "from sklearn.ensemble import ExtraTreesRegressor\n",
    "from sklearn.preprocessing import LabelEncoder, StandardScaler\n",
    "from sklearn.model_selection import train_test_split\n",
    "import numpy as np\n",
    "import sklearn.metrics\n",
    "import warnings\n",
    "warnings.filterwarnings('ignore')\n",
    "#load data\n",
    "df = pd.read_csv('insurance.csv')\n",
    "df = df.dropna()\n",
    "df.head()\n",
    "\n",
    "\n",
    "def map_smoking(column):\n",
    "    mapped=[] \n",
    "    for row in column:      \n",
    "        if row==\"yes\":\n",
    "            mapped.append(1)\n",
    "        else:\n",
    "            mapped.append(0)      \n",
    "    return mapped\n",
    "df[\"smoker_norm\"]=map_smoking(df[\"smoker\"])\n",
    "\n",
    "\n",
    "variables = ['smoker_norm','age','bmi']\n",
    "X = df[variables]\n",
    "sc = StandardScaler()\n",
    "X = sc.fit_transform(X) \n",
    "Y = df['charges']\n",
    "X_train, X_test, y_train, y_test = train_test_split(X, Y, test_size=0.2)\n",
    "#train model\n",
    "regressor = ExtraTreesRegressor(n_estimators = 200)\n",
    "regressor.fit(X_train,y_train)\n",
    "\n",
    "\n",
    "\n",
    "y_train_pred = regressor.predict(X_train)\n",
    "y_test_pred = regressor.predict(X_test)\n",
    "print('ExtraTreesRegressor evaluating result:')\n",
    "print(\"Test MAE: \", sklearn.metrics.mean_absolute_error(y_test, y_test_pred))\n",
    "print(\"Test RMSE: \", np.sqrt(sklearn.metrics.mean_squared_error(y_test, y_test_pred)))\n",
    "\n",
    "\n",
    "def calculate_insurance(smoking,bmi,age):\n",
    "    p=[smoking,age,bmi]\n",
    "    X = sc.transform([p])\n",
    "    cost = regressor.predict(X)[0]\n",
    "    print('Cost = ',cost,'\\n\\n')\n",
    "\n",
    "\n",
    "calculate_insurance(1,29.1,61)"
   ]
  },
  {
   "cell_type": "code",
   "execution_count": null,
   "metadata": {},
   "outputs": [],
   "source": []
  }
 ],
 "metadata": {
  "kernelspec": {
   "display_name": "Python 3",
   "language": "python",
   "name": "python3"
  },
  "language_info": {
   "codemirror_mode": {
    "name": "ipython",
    "version": 3
   },
   "file_extension": ".py",
   "mimetype": "text/x-python",
   "name": "python",
   "nbconvert_exporter": "python",
   "pygments_lexer": "ipython3",
   "version": "3.7.1"
  }
 },
 "nbformat": 4,
 "nbformat_minor": 2
}
